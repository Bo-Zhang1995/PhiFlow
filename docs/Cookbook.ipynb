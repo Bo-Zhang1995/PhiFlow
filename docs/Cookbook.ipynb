{
 "cells": [
  {
   "cell_type": "markdown",
   "source": [
    "# Φ<sub>Flow</sub> Cookbook\n",
    "\n",
    "This notebook lists useful code snippets."
   ],
   "metadata": {
    "collapsed": false
   }
  },
  {
   "cell_type": "markdown",
   "source": [
    "## Import for NumPy, TensorFlow, PyTorch, Jax"
   ],
   "metadata": {
    "collapsed": false
   }
  },
  {
   "cell_type": "code",
   "execution_count": null,
   "outputs": [],
   "source": [
    "from phi.flow import *\n",
    "from phi.tf.flow import *\n",
    "from phi.torch.flow import *\n",
    "from phi.jax.flow import *"
   ],
   "metadata": {
    "collapsed": false,
    "pycharm": {
     "name": "#%%\n"
    }
   }
  },
  {
   "cell_type": "markdown",
   "source": [
    "## Select GPU or CPU"
   ],
   "metadata": {
    "collapsed": false
   }
  },
  {
   "cell_type": "code",
   "execution_count": null,
   "outputs": [],
   "source": [
    "gpus = backend.default_backend().list_devices('GPU')\n",
    "\n",
    "assert backend.default_backend().set_default_device('CPU')\n"
   ],
   "metadata": {
    "collapsed": false,
    "pycharm": {
     "name": "#%%\n"
    }
   }
  },
  {
   "cell_type": "markdown",
   "source": [
    "## Use 64 bit FP precision"
   ],
   "metadata": {
    "collapsed": false
   }
  },
  {
   "cell_type": "code",
   "execution_count": null,
   "outputs": [],
   "source": [
    "math.set_global_precision(64)\n",
    "x64 = math.random_normal(batch(b=4))\n",
    "\n",
    "with math.precision(32):  ## operations within this context will use 32 bit floats\n",
    "    x32 = math.to_float(x64)\n"
   ],
   "metadata": {
    "collapsed": false,
    "pycharm": {
     "name": "#%%\n"
    }
   }
  },
  {
   "cell_type": "markdown",
   "source": [
    "## Plot a `Tensor`"
   ],
   "metadata": {
    "collapsed": false
   }
  },
  {
   "cell_type": "code",
   "execution_count": null,
   "outputs": [],
   "source": [
    "data = math.random_uniform(spatial(x=8, y=6))\n",
    "vis.plot(data);  ## or vis.show(data)\n"
   ],
   "metadata": {
    "collapsed": false,
    "pycharm": {
     "name": "#%%\n"
    }
   }
  },
  {
   "cell_type": "markdown",
   "source": [
    "## Convert a `Tensor` to NumPy"
   ],
   "metadata": {
    "collapsed": false
   }
  },
  {
   "cell_type": "code",
   "execution_count": null,
   "outputs": [],
   "source": [
    "data.numpy(order='x,y')"
   ],
   "metadata": {
    "collapsed": false,
    "pycharm": {
     "name": "#%%\n"
    }
   }
  },
  {
   "cell_type": "markdown",
   "source": [
    "## Compute Pair-wise Distances"
   ],
   "metadata": {
    "collapsed": false,
    "pycharm": {
     "name": "#%% md\n"
    }
   }
  },
  {
   "cell_type": "code",
   "execution_count": null,
   "outputs": [],
   "source": [
    "points = math.tensor([(0, 0), (0, 1), (1, 0)], instance('points'), channel('vector'))\n",
    "distances = points - math.rename_dims(points, 'points', 'others')\n",
    "math.print(distances)"
   ],
   "metadata": {
    "collapsed": false,
    "pycharm": {
     "name": "#%%\n"
    }
   }
  },
  {
   "cell_type": "markdown",
   "source": [
    "## Construct a `CenteredGrid`"
   ],
   "metadata": {
    "collapsed": false
   }
  },
  {
   "cell_type": "code",
   "execution_count": null,
   "outputs": [],
   "source": [
    "zero_grid = CenteredGrid(0, 0, x=32, y=32, bounds=Box(x=1, y=1))\n",
    "y_grid = CenteredGrid((0, 1), extrapolation.BOUNDARY, x=32, y=32)\n",
    "noise_grid = CenteredGrid(Noise(), extrapolation.PERIODIC, x=32, y=32)\n",
    "sin_curve = CenteredGrid(lambda x: math.sin(x), extrapolation.PERIODIC, x=100, bounds=Box(x=2 * PI))\n",
    "\n",
    "vis.plot(zero_grid, y_grid, noise_grid, sin_curve);"
   ],
   "metadata": {
    "collapsed": false,
    "pycharm": {
     "name": "#%%\n"
    }
   }
  },
  {
   "cell_type": "markdown",
   "source": [
    "## Construct a `StaggeredGrid`"
   ],
   "metadata": {
    "collapsed": false
   }
  },
  {
   "cell_type": "code",
   "execution_count": null,
   "outputs": [],
   "source": [
    "zero_grid = StaggeredGrid(0, 0, x=32, y=32, bounds=Box(x=1, y=1))\n",
    "y_grid = StaggeredGrid((0, 1), extrapolation.BOUNDARY, x=32, y=32)\n",
    "noise_grid = StaggeredGrid(Noise(), extrapolation.PERIODIC, x=32, y=32)\n",
    "sin_curve = StaggeredGrid(lambda x: math.sin(x), extrapolation.PERIODIC, x=100, bounds=Box(x=2 * PI))\n",
    "\n",
    "vis.plot(zero_grid, y_grid, noise_grid, sin_curve);\n"
   ],
   "metadata": {
    "collapsed": false,
    "pycharm": {
     "name": "#%%\n"
    }
   }
  },
  {
   "cell_type": "markdown",
   "source": [
    "## Construct `StaggeredGrid` from NumPy Arrays\n",
    "\n",
    "Given matching arrays `vx` and `vy`, we can construct a `StaggeredGrid`.\n",
    "Note that the shapes of the arrays must [match the extrapolation](https://tum-pbs.github.io/PhiFlow/Staggered_Grids.html)!"
   ],
   "metadata": {
    "collapsed": false,
    "pycharm": {
     "name": "#%% md\n"
    }
   }
  },
  {
   "cell_type": "code",
   "execution_count": null,
   "metadata": {
    "collapsed": true
   },
   "outputs": [],
   "source": [
    "vx = math.tensor(np.zeros([33, 32]), spatial('x,y'))\n",
    "vy = math.tensor(np.zeros([32, 33]), spatial('x,y'))\n",
    "StaggeredGrid(math.stack([vx, vy], channel('vector')), extrapolation.BOUNDARY)\n",
    "\n",
    "vx = math.tensor(np.zeros([32, 32]), spatial('x,y'))\n",
    "vy = math.tensor(np.zeros([32, 32]), spatial('x,y'))\n",
    "StaggeredGrid(math.stack([vx, vy], channel('vector')), extrapolation.PERIODIC)\n",
    "\n",
    "vx = math.tensor(np.zeros([31, 32]), spatial('x,y'))\n",
    "vy = math.tensor(np.zeros([32, 31]), spatial('x,y'))\n",
    "StaggeredGrid(math.stack([vx, vy], channel('vector')), 0)\n"
   ]
  },
  {
   "cell_type": "markdown",
   "source": [
    "## BFGS Optimization"
   ],
   "metadata": {
    "collapsed": false
   }
  },
  {
   "cell_type": "code",
   "execution_count": null,
   "outputs": [],
   "source": [
    "def loss_function(x):\n",
    "    return math.l2_loss(math.cos(x))\n",
    "\n",
    "initial_guess = math.tensor([1, -1], math.batch('batch'))\n",
    "math.minimize(loss_function, Solve('L-BFGS-B', 0, 1e-3, x0=initial_guess))\n"
   ],
   "metadata": {
    "collapsed": false,
    "pycharm": {
     "name": "#%%\n"
    }
   }
  }
 ],
 "metadata": {
  "kernelspec": {
   "display_name": "Python 3",
   "language": "python",
   "name": "python3"
  },
  "language_info": {
   "codemirror_mode": {
    "name": "ipython",
    "version": 2
   },
   "file_extension": ".py",
   "mimetype": "text/x-python",
   "name": "python",
   "nbconvert_exporter": "python",
   "pygments_lexer": "ipython2",
   "version": "2.7.6"
  }
 },
 "nbformat": 4,
 "nbformat_minor": 0
}