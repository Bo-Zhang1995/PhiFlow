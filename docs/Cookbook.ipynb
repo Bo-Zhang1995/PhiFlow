{
 "cells": [
  {
   "cell_type": "markdown",
   "source": [
    "# Import for NumPy, TensorFlow, PyTorch, Jax"
   ],
   "metadata": {
    "collapsed": false
   }
  },
  {
   "cell_type": "code",
   "execution_count": null,
   "outputs": [],
   "source": [
    "from phi.flow import *\n",
    "from phi.tf.flow import *\n",
    "from phi.torch.flow import *\n",
    "from phi.jax.flow import *"
   ],
   "metadata": {
    "collapsed": false,
    "pycharm": {
     "name": "#%%\n"
    }
   }
  },
  {
   "cell_type": "markdown",
   "source": [
    "# Construct `StaggeredGrid` from NumPy Arrays\n",
    "\n",
    "Given matching arrays `vx` and `vy`, we can construct a `StaggeredGrid`.\n",
    "Note that the shapes of the arrays must match the extrapolation!"
   ],
   "metadata": {
    "collapsed": false,
    "pycharm": {
     "name": "#%% md\n"
    }
   }
  },
  {
   "cell_type": "code",
   "execution_count": null,
   "metadata": {
    "collapsed": true
   },
   "outputs": [],
   "source": [
    "vx = math.tensor(np.zeros([33, 32]), spatial('x,y'))\n",
    "vy = math.tensor(np.zeros([32, 33]), spatial('x,y'))\n",
    "StaggeredGrid(math.stack([vx, vy], channel('vector')), extrapolation.BOUNDARY)\n",
    "\n",
    "vx = math.tensor(np.zeros([32, 32]), spatial('x,y'))\n",
    "vy = math.tensor(np.zeros([32, 32]), spatial('x,y'))\n",
    "StaggeredGrid(math.stack([vx, vy], channel('vector')), extrapolation.PERIODIC)\n",
    "\n",
    "vx = math.tensor(np.zeros([31, 32]), spatial('x,y'))\n",
    "vy = math.tensor(np.zeros([32, 31]), spatial('x,y'))\n",
    "StaggeredGrid(math.stack([vx, vy], channel('vector')), 0)"
   ]
  }
 ],
 "metadata": {
  "kernelspec": {
   "display_name": "Python 3",
   "language": "python",
   "name": "python3"
  },
  "language_info": {
   "codemirror_mode": {
    "name": "ipython",
    "version": 2
   },
   "file_extension": ".py",
   "mimetype": "text/x-python",
   "name": "python",
   "nbconvert_exporter": "python",
   "pygments_lexer": "ipython2",
   "version": "2.7.6"
  }
 },
 "nbformat": 4,
 "nbformat_minor": 0
}